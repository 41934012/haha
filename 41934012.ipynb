{
 "cells": [
  {
   "cell_type": "markdown",
   "metadata": {},
   "source": [
    "# What is the cloud computing\n",
    "### Cloud computing gives users access to data wherever they have an internet connection. In today's ever-changing business climate, it's critical that small business owners get what they need right when they need it, whether they're on their computers, tablets or mobile phones – or in the office, out in the field or on the road. This is exactly the convenience that cloud computing provides.\n",
    "#### including Cloud storage , Cloud back up ,Software as a service (SaaS) and Cloud hosting.\n",
    "\n",
    "+ we can see from the picture that the cloud computing is backed up by the computer,the data base and the storeage. And wherever you have a connection to the internet,you can get the access to the remote database to get and share what you want.\n",
    "+ Over the internet, all electronic stuffs can be tight in the cloud ,that's how we get the convenience form the cloud.For small and midsize businesses (SMBs), the benefits of cloud computing are endless. Cloud computing saves businesses time and money by boosting productivity, improving collaboration and promoting innovation.\n",
    "+ Meanwhile ,the cloud computing can be considered as a bridge to gather all information and people wolrdwhile together. In that way, we can also save the transaction cost and the time cost as to increase the efficienty and the speed of aigility.\n",
    "+ Through this way, we can also expand the content ,so it's more scalable and elastic."
   ]
  },
  {
   "cell_type": "code",
   "execution_count": null,
   "metadata": {},
   "outputs": [],
   "source": []
  }
 ],
 "metadata": {
  "kernelspec": {
   "display_name": "Python 3",
   "language": "python",
   "name": "python3"
  },
  "language_info": {
   "codemirror_mode": {
    "name": "ipython",
    "version": 3
   },
   "file_extension": ".py",
   "mimetype": "text/x-python",
   "name": "python",
   "nbconvert_exporter": "python",
   "pygments_lexer": "ipython3",
   "version": "3.6.7"
  }
 },
 "nbformat": 4,
 "nbformat_minor": 2
}
